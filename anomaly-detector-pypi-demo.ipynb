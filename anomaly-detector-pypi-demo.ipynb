{
 "cells": [
  {
   "cell_type": "markdown",
   "id": "a2f4ea7a79dcc5e",
   "metadata": {
    "collapsed": false
   },
   "source": [
    "## Install package"
   ]
  },
  {
   "cell_type": "code",
   "execution_count": null,
   "id": "a0f996e3f768461f",
   "metadata": {
    "collapsed": false,
    "vscode": {
     "languageId": "powershell"
    }
   },
   "outputs": [],
   "source": [
    "pip install time-series-anomaly-detector"
   ]
  },
  {
   "cell_type": "markdown",
   "id": "8346a504",
   "metadata": {},
   "source": [
    "## Multivariate Anomaly Detection"
   ]
  },
  {
   "cell_type": "markdown",
   "id": "4f25e1b2",
   "metadata": {},
   "source": [
    "### 1. Train model\n",
    "To train a mvad model, the type of training data should be <code>DataFrame</code> type. And you must specify the <code>sliding_window</code> and <code>device</code> in <code>params</code>. \n",
    "\n",
    "Moreover, please note that in mvad, <code>timestamp</code> of the training data is optional."
   ]
  },
  {
   "cell_type": "code",
   "execution_count": null,
   "id": "d5da3531",
   "metadata": {},
   "outputs": [],
   "source": [
    "import numpy as np\n",
    "import pandas as pd\n",
    "from anomaly_detector import MultivariateAnomalyDetector\n",
    "\n",
    "import json\n",
    "from pprint import pprint\n",
    "\n",
    "data_size = 1000\n",
    "var_num = 20\n",
    "\n",
    "training_data = np.random.randn(data_size, var_num)\n",
    "columns = [f\"variable_{i}\" for i in range(var_num)]\n",
    "training_data = pd.DataFrame(training_data, columns=columns)\n",
    "\n",
    "# Optional\n",
    "timestamps = pd.date_range(start=\"2023-01-03\", periods=data_size, freq=\"H\")\n",
    "training_data[\"timestamp\"] = timestamps.strftime(\"%Y-%m-%dT%H:%M:%SZ\")\n",
    "training_data = training_data.set_index(\"timestamp\", drop=True)\n",
    "\n",
    "params = {\"sliding_window\": 200, \"device\": \"cpu\"}\n",
    "\n",
    "model = MultivariateAnomalyDetector()\n",
    "\n",
    "# Train model\n",
    "model.fit(training_data, params=params)"
   ]
  },
  {
   "cell_type": "markdown",
   "id": "b918d943",
   "metadata": {},
   "source": [
    "### 2. Inference"
   ]
  },
  {
   "cell_type": "code",
   "execution_count": null,
   "id": "f3a010d7",
   "metadata": {},
   "outputs": [],
   "source": [
    "eval_data = np.random.randn(201, var_num)\n",
    "eval_data[-1, :] += 100\n",
    "eval_data = pd.DataFrame(eval_data, columns=columns)\n",
    "\n",
    "# Optional\n",
    "timestamps = pd.date_range(start=\"2023-01-03\", periods=201, freq=\"H\")\n",
    "eval_data[\"timestamp\"] = timestamps.strftime(\"%Y-%m-%dT%H:%M:%SZ\")\n",
    "eval_data = eval_data.set_index(\"timestamp\", drop=True)\n",
    "\n",
    "# prediction\n",
    "results = model.predict(data=eval_data, context=None)\n",
    "\n",
    "pprint(results)"
   ]
  },
  {
   "cell_type": "markdown",
   "id": "1cc129ba",
   "metadata": {},
   "source": [
    "## Univariate Anomaly Detection"
   ]
  },
  {
   "cell_type": "markdown",
   "id": "5d12be4c",
   "metadata": {},
   "source": [
    "### Inference\n",
    "\n",
    "Please note that the univariate anomaly detection does not need to train before inference, and <code>timestamp</code> of the <code>eval_data</code> must be specified."
   ]
  },
  {
   "cell_type": "code",
   "execution_count": null,
   "id": "232963b5",
   "metadata": {},
   "outputs": [],
   "source": [
    "import numpy as np\n",
    "import pandas as pd\n",
    "from anomaly_detector import EntireAnomalyDetector\n",
    "\n",
    "params = {\n",
    "    \"granularity\": \"monthly\", \n",
    "    \"maxAnomalyRatio\": 0.25, \n",
    "    \"sensitivity\": 95, \n",
    "    \"imputeMode\": \"auto\"\n",
    "}\n",
    "\n",
    "\n",
    "model = EntireAnomalyDetector()\n",
    "\n",
    "eval_data = np.ones(20)\n",
    "eval_data[-1] = 0\n",
    "eval_data = pd.DataFrame(eval_data, columns=[\"value\"])\n",
    "\n",
    "timestamps = pd.date_range(start=\"1962-01-01\", periods=20, freq=\"ME\")\n",
    "eval_data[\"timestamp\"] = timestamps\n",
    "\n",
    "results = model.predict(\n",
    "    data=eval_data,\n",
    "    params=params,\n",
    "    context=None\n",
    ")\n",
    "print(results)\n"
   ]
  }
 ],
 "metadata": {
  "kernelspec": {
   "display_name": "Python 3",
   "language": "python",
   "name": "python3"
  },
  "language_info": {
   "codemirror_mode": {
    "name": "ipython",
    "version": 3
   },
   "file_extension": ".py",
   "mimetype": "text/x-python",
   "name": "python",
   "nbconvert_exporter": "python",
   "pygments_lexer": "ipython3",
   "version": "3.10.13"
  }
 },
 "nbformat": 4,
 "nbformat_minor": 5
}
